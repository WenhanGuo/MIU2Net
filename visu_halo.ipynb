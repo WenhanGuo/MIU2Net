{
 "cells": [
  {
   "cell_type": "code",
   "execution_count": null,
   "metadata": {},
   "outputs": [],
   "source": [
    "from halo_nfw_model import HaloMap3D\n",
    "import numpy as np\n",
    "import h5py\n",
    "import pandas as pd\n",
    "import astropy.cosmology.units as cu\n",
    "import astropy.io.fits as fits\n",
    "import matplotlib.pyplot as plt\n",
    "import matplotlib.colors as colors"
   ]
  },
  {
   "cell_type": "code",
   "execution_count": null,
   "metadata": {},
   "outputs": [],
   "source": [
    "cat_path = '/Users/danny/Desktop/cos0_Set1_rotate1_area1.txt'\n",
    "fits_path = '/Users/danny/Desktop/cos0_Set1_rotate1_area1_nfw.fits'\n",
    "zcat_path = '/Users/danny/Desktop/WL/kappa_map/scripts/redshift_info.txt'\n",
    "density_path = '/Users/danny/Desktop/cos0_Set1_rotate1_area1_Sigma2D.mat'\n",
    "\n",
    "halo_cat = pd.read_csv(cat_path, sep='\\t')\n",
    "halo_cat.name = cat_path[:-4]\n",
    "redshift_cat = pd.read_csv(zcat_path, sep=' ')\n",
    "z_list = list(redshift_cat['z_lens']) * cu.redshift\n",
    "\n",
    "m = HaloMap3D(halo_cat, z_list)\n",
    "m.data = fits.open(fits_path)[0].data"
   ]
  },
  {
   "cell_type": "code",
   "execution_count": null,
   "metadata": {},
   "outputs": [],
   "source": [
    "z_idx = 3\n",
    "plt.imshow(m.data[z_idx].T, interpolation='None', norm=colors.LogNorm())\n",
    "plt.colorbar()\n",
    "plt.title(r'Halo Surface Mass Density Map ($\\mathrm{M}_{\\odot}\\mathrm{kpc}^{-2}$)'+f'\\nz = {z_list[z_idx].value:.4}')"
   ]
  },
  {
   "cell_type": "code",
   "execution_count": null,
   "metadata": {},
   "outputs": [],
   "source": [
    "def load_mat_file_v73(file_path):\n",
    "    with h5py.File(file_path, 'r') as f:\n",
    "        variables = {}\n",
    "        for k, v in f.items():\n",
    "            variables[k] = np.array(v)\n",
    "    return variables\n",
    "\n",
    "density = load_mat_file_v73(density_path)['Sigma_2D']"
   ]
  },
  {
   "cell_type": "code",
   "execution_count": null,
   "metadata": {},
   "outputs": [],
   "source": [
    "z_idx = 5\n",
    "plt.subplots(figsize=(10, 5))\n",
    "plt.subplot(1, 2, 1)\n",
    "plt.imshow(m.data[z_idx].T, interpolation='None', norm=colors.LogNorm())\n",
    "plt.colorbar()\n",
    "plt.title(r'Halo Surface Mass Density Map ($\\mathrm{M}_{\\odot}\\mathrm{kpc}^{-2}$)'+f'\\nz = {z_list[z_idx].value:.4}')\n",
    "plt.subplot(1, 2, 2)\n",
    "plt.imshow(np.flipud(density[z_idx]), interpolation='None', norm=colors.LogNorm())\n",
    "plt.colorbar()\n",
    "plt.title(r'True Surface Mass Density Map ($\\mathrm{M}_{\\odot}\\mathrm{arcmin}^{-2}$)'+f'\\nz = {z_list[z_idx].value:.4}')\n",
    "plt.tight_layout()"
   ]
  }
 ],
 "metadata": {
  "kernelspec": {
   "display_name": "d2l",
   "language": "python",
   "name": "python3"
  },
  "language_info": {
   "codemirror_mode": {
    "name": "ipython",
    "version": 3
   },
   "file_extension": ".py",
   "mimetype": "text/x-python",
   "name": "python",
   "nbconvert_exporter": "python",
   "pygments_lexer": "ipython3",
   "version": "3.9.16"
  },
  "orig_nbformat": 4
 },
 "nbformat": 4,
 "nbformat_minor": 2
}
