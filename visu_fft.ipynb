{
 "cells": [
  {
   "cell_type": "code",
   "execution_count": null,
   "metadata": {},
   "outputs": [],
   "source": [
    "import torch\n",
    "import torch.fft\n",
    "import numpy as np\n",
    "import astropy.io.fits as fits\n",
    "import matplotlib.pyplot as plt\n",
    "import ipywidgets as widgets\n",
    "from IPython.display import display\n",
    "\n",
    "fname = '/Users/danny/Desktop/WL/kappa_map/prediction/map_24156.fits'\n",
    "# Open image\n",
    "with fits.open(fname) as f:\n",
    "    pred = f[0].data * 100\n",
    "    true = f[1].data * 100\n",
    "    res = f[2].data * 100\n",
    "img = np.float32(res)\n",
    "img = torch.from_numpy(np.array(img))\n",
    "rows, cols = img.shape"
   ]
  },
  {
   "cell_type": "code",
   "execution_count": null,
   "metadata": {},
   "outputs": [],
   "source": [
    "def gaus2d(x=0, y=0, mx=0, my=0, sx=1, sy=1):\n",
    "    return 1. / (2. * np.pi * sx * sy) * np.exp(-((x - mx)**2. / (2. * sx**2.) + (y - my)**2. / (2. * sy**2.)))\n",
    "\n",
    "def gaussian_mask(rows, cols, sigma):\n",
    "    # Create Gaussian masks\n",
    "    x = np.linspace(0, rows, rows)\n",
    "    y = np.linspace(0, cols, cols)\n",
    "    x, y = np.meshgrid(x, y)\n",
    "\n",
    "    crow, ccol = rows // 2 , cols // 2 \n",
    "    gaus = gaus2d(x, y, mx=crow, my=ccol, sx=sigma, sy=sigma)\n",
    "    gaus /= gaus.max()\n",
    "    return gaus\n",
    "\n",
    "def draw(ax, data, title, scale=None, cmap=plt.cm.jet):\n",
    "    if scale:\n",
    "        ax.imshow(data, cmap=cmap, vmin=scale[0], vmax=scale[1])\n",
    "    else:\n",
    "        ax.imshow(data, cmap=cmap)\n",
    "    ax.set_title(title)"
   ]
  },
  {
   "cell_type": "code",
   "execution_count": null,
   "metadata": {},
   "outputs": [],
   "source": [
    "\n",
    "# Fourier transform\n",
    "f = torch.fft.fftn(img)\n",
    "# Shift the zero-frequency component to the center of the spectrum.\n",
    "f_shift = torch.fft.fftshift(f)\n",
    "\n",
    "# Function to compute and plot the result\n",
    "def compute_and_plot(sigma1, sigma2, invert_mask):\n",
    "    fig, axs = plt.subplots(2, 3, figsize=(8,5))\n",
    "\n",
    "    # Create Gaussian mask\n",
    "    gaus1 = gaussian_mask(rows, cols, sigma=sigma1)\n",
    "    gaus2 = gaussian_mask(rows, cols, sigma=sigma2)\n",
    "    mask = gaus1 - gaus2\n",
    "    mask /= mask.max()\n",
    "    if invert_mask:\n",
    "        mask = 1 - mask\n",
    "    \n",
    "    # Apply mask and inverse FFT\n",
    "    fshift_masked = f_shift*mask\n",
    "    f_ishift = torch.fft.ifftshift(fshift_masked)\n",
    "    img_back = torch.fft.ifftn(f_ishift)\n",
    "    img_back = torch.abs(img_back)\n",
    "    \n",
    "    draw(axs[0,0], img, 'Original Image', scale=[-2,5])\n",
    "    draw(axs[1,0], img_back, 'Inverse FFT Image', scale=[-2,5])\n",
    "    draw(axs[0,1], torch.log(torch.abs(f_shift)+1), 'FFT Image', cmap='viridis')\n",
    "    draw(axs[1,1], torch.log(torch.abs(fshift_masked)+1), 'Masked FFT Image', cmap='viridis')\n",
    "    draw(axs[0,2], mask, 'Gaussian Mask', scale=[0,1], cmap='gray')\n",
    "\n",
    "    plt.tight_layout()"
   ]
  },
  {
   "cell_type": "code",
   "execution_count": null,
   "metadata": {},
   "outputs": [],
   "source": [
    "# Create checkbox\n",
    "invert_mask_checkbox = widgets.Checkbox(value=False, description='Invert Mask')\n",
    "# Create sliders\n",
    "slider_layout = widgets.Layout(width='500px')\n",
    "sigma1_slider = widgets.FloatSlider(min=0.1, max=100, step=0.1, value=5, description='sigma1', layout=slider_layout)\n",
    "sigma2_slider = widgets.FloatSlider(min=0.1, max=100, step=0.1, value=1, description='sigma2', layout=slider_layout)\n",
    "\n",
    "# Create interactive widget\n",
    "interactive_plot = widgets.interactive(compute_and_plot, sigma1=sigma1_slider, sigma2=sigma2_slider, invert_mask=invert_mask_checkbox)\n",
    "\n",
    "# Display the interactive plot\n",
    "display(interactive_plot)"
   ]
  }
 ],
 "metadata": {
  "kernelspec": {
   "display_name": "d2l",
   "language": "python",
   "name": "python3"
  },
  "language_info": {
   "codemirror_mode": {
    "name": "ipython",
    "version": 3
   },
   "file_extension": ".py",
   "mimetype": "text/x-python",
   "name": "python",
   "nbconvert_exporter": "python",
   "pygments_lexer": "ipython3",
   "version": "3.9.16"
  },
  "orig_nbformat": 4
 },
 "nbformat": 4,
 "nbformat_minor": 2
}
