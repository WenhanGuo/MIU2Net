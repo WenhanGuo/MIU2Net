{
 "cells": [
  {
   "cell_type": "code",
   "execution_count": 1,
   "metadata": {},
   "outputs": [],
   "source": [
    "from PIL import Image\n",
    "import torchvision.transforms as transforms\n",
    "from ipywidgets import interact, FloatSlider, IntSlider, Layout\n",
    "import matplotlib.pyplot as plt\n",
    "import numpy as np\n",
    "import astropy.io.fits as fits\n",
    "\n",
    "# Read the image\n",
    "path = '/Users/danny/Desktop/WL/data_new/kappa/map_24012.fits'\n",
    "img = fits.open(path)[0].data * 100\n",
    "img_PIL = Image.fromarray(img)"
   ]
  },
  {
   "cell_type": "code",
   "execution_count": 2,
   "metadata": {},
   "outputs": [
    {
     "data": {
      "application/vnd.jupyter.widget-view+json": {
       "model_id": "b43a47dc4cfd4cbe98cef89d79e9b999",
       "version_major": 2,
       "version_minor": 0
      },
      "text/plain": [
       "interactive(children=(FloatSlider(value=1.0, description='Std Dev', layout=Layout(width='500px'), max=36.0, mi…"
      ]
     },
     "metadata": {},
     "output_type": "display_data"
    },
    {
     "data": {
      "text/plain": [
       "<function __main__.compute_and_plot(std, k)>"
      ]
     },
     "execution_count": 2,
     "metadata": {},
     "output_type": "execute_result"
    }
   ],
   "source": [
    "def compute_and_plot(std, k):\n",
    "    # Define the transform\n",
    "    transform = transforms.GaussianBlur(kernel_size=int(k), sigma=std)\n",
    "    # Apply transform\n",
    "    img_blur = np.array(transform(img_PIL))\n",
    "    \n",
    "    # Plot original and blurred image\n",
    "    fig, [ax1, ax2] = plt.subplots(nrows=1, ncols=2)\n",
    "    im1 = ax1.imshow(img, cmap=plt.cm.jet, vmin=-3, vmax=7)\n",
    "    ax1.set_title('True kappa')\n",
    "    im2 = ax2.imshow(img_blur, cmap=plt.cm.jet, vmin=-3, vmax=7)\n",
    "    ax2.set_title('Blurred kappa')\n",
    "    cbar_ax = fig.add_axes([0.95, 0.15, 0.02, 0.7])\n",
    "    fig.colorbar(im1, cax=cbar_ax)\n",
    "\n",
    "# Define the layout for the sliders\n",
    "slider_layout = Layout(width='500px')\n",
    "\n",
    "# Define the sliders\n",
    "slider_std = FloatSlider(min=0.1, max=36, step=0.1, value=1, description='Std Dev', layout=slider_layout)\n",
    "slider_k = IntSlider(min=3, max=151, step=2, value=5, description='Kernel Size', layout=slider_layout)\n",
    "\n",
    "# Display the interactive plot\n",
    "interact(compute_and_plot, std=slider_std, k=slider_k)"
   ]
  }
 ],
 "metadata": {
  "kernelspec": {
   "display_name": "d2l",
   "language": "python",
   "name": "python3"
  },
  "language_info": {
   "codemirror_mode": {
    "name": "ipython",
    "version": 3
   },
   "file_extension": ".py",
   "mimetype": "text/x-python",
   "name": "python",
   "nbconvert_exporter": "python",
   "pygments_lexer": "ipython3",
   "version": "3.9.16"
  },
  "orig_nbformat": 4
 },
 "nbformat": 4,
 "nbformat_minor": 2
}
