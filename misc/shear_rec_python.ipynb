{
  "cells": [
    {
      "cell_type": "code",
      "execution_count": 18,
      "id": "8fead12e-6503-4314-883c-2849031e6cfa",
      "metadata": {
        "ExecuteTime": {
          "end_time": "2023-07-13T09:34:00.871383+00:00",
          "start_time": "2023-07-13T09:34:00.710484+00:00"
        },
        "noteable": {
          "cell_type": "code"
        }
      },
      "outputs": [],
      "source": [
        "import torch\n",
        "import numpy as np\n",
        "from scipy.fft import fft2, ifft2\n",
        "from astropy.io import fits\n",
        "\n",
        "def shear_rec(shear1, shear2):\n",
        "    N_grid = shear1.shape[0]\n",
        "    theta = np.linspace(-N_grid+1, N_grid-1, 2*N_grid-1)\n",
        "    theta_x, theta_y = np.meshgrid(theta, theta)\n",
        "    D_starkernel = -1. / (theta_x + 1j*theta_y) ** 2\n",
        "    D_starkernel[N_grid-1, N_grid-1] = 0\n",
        "    y = np.real(ifft2(fft2(D_starkernel, (3*N_grid-2, 3*N_grid-2)) * fft2(shear1 + 1j*shear2, (3*N_grid-2, 3*N_grid-2)))) / np.pi\n",
        "    y = y[N_grid-1:2*N_grid-1, N_grid-1:2*N_grid-1]\n",
        "    return y\n",
        "\n",
        "def shear_rec_torch(shear1, shear2):\n",
        "    N_grid = shear1.shape[0]\n",
        "    theta = torch.linspace(-N_grid+1, N_grid-1, 2*N_grid-1, device=shear1.device)\n",
        "    theta_x, theta_y = torch.meshgrid(theta, theta)\n",
        "    D_starkernel = -1. / (theta_x + 1j*theta_y) ** 2\n",
        "    D_starkernel[N_grid-1, N_grid-1] = 0\n",
        "    y = torch.fft.ifftn(torch.fft.fftn(D_starkernel, s=(3*N_grid-2, 3*N_grid-2)) * torch.fft.fftn(shear1 + 1j*shear2, s=(3*N_grid-2, 3*N_grid-2)))\n",
        "    y = y.real / torch.tensor([np.pi], device=shear1.device)\n",
        "    y = y[N_grid-1:2*N_grid-1, N_grid-1:2*N_grid-1]\n",
        "    return y\n",
        "\n",
        "\n",
        "# Replace 'shear1.fits' and 'shear2.fits' with the paths to your .fits files\n",
        "shear1_data = - fits.getdata('/Users/danny/Desktop/cos0_Set1_rotate1_area1_37_gamma1.fits')\n",
        "shear2_data = fits.getdata('/Users/danny/Desktop/cos0_Set1_rotate1_area1_37_gamma2.fits')\n",
        "\n",
        "shear1 = torch.tensor(np.float32(shear1_data), device='cpu')  # replace with your data\n",
        "shear2 = torch.tensor(np.float32(shear2_data), device='cpu')  # replace with your data\n",
        "\n",
        "\n",
        "# Call the shear_rec function\n",
        "kappa_python = np.array(shear_rec_torch(-shear1, shear2))\n",
        "\n",
        "# Write the kappa map to a .fits file\n",
        "fits.writeto('/Users/danny/Desktop/kappa_python_torch.fits', kappa_python, overwrite=True)\n"
      ]
    },
    {
      "cell_type": "code",
      "execution_count": 19,
      "id": "15327167",
      "metadata": {},
      "outputs": [],
      "source": [
        "hdu = fits.open('/Users/danny/Desktop/cos0_Set1_rotate1_area1_37_ks.fits')\n",
        "kappa_zhaoan = hdu[0].data\n",
        "\n",
        "hdu = fits.open('/Users/danny/Desktop/kappa_matlab.fits')\n",
        "kappa_matlab = hdu[0].data\n",
        "\n",
        "hdu = fits.open('/Users/danny/Desktop/kappa_python.fits')\n",
        "kappa_python = hdu[0].data\n",
        "\n",
        "hdu = fits.open('/Users/danny/Desktop/kappa_python_torch.fits')\n",
        "kappa_torch = hdu[0].data"
      ]
    },
    {
      "cell_type": "code",
      "execution_count": 20,
      "id": "15e6bc30",
      "metadata": {},
      "outputs": [
        {
          "data": {
            "text/plain": [
              "array([[-0.01084101, -0.00526796, -0.00952041, ..., -0.00547499,\n",
              "        -0.00689655, -0.00453543],\n",
              "       [-0.0111584 , -0.01148524, -0.01264642, ..., -0.00361932,\n",
              "        -0.00786871, -0.00921078],\n",
              "       [-0.00565541, -0.01345704, -0.0163328 , ..., -0.00772127,\n",
              "        -0.01112676, -0.01391968],\n",
              "       ...,\n",
              "       [ 0.0079258 ,  0.00598816, -0.00238138, ...,  0.00239898,\n",
              "         0.00210277,  0.00282967],\n",
              "       [ 0.00817869,  0.01125333, -0.00097717, ...,  0.00021383,\n",
              "         0.00399128,  0.00349119],\n",
              "       [ 0.00440049,  0.00631212, -0.00102575, ...,  0.00149292,\n",
              "         0.00220676, -0.00309678]], dtype='>f8')"
            ]
          },
          "execution_count": 20,
          "metadata": {},
          "output_type": "execute_result"
        }
      ],
      "source": [
        "kappa_python"
      ]
    },
    {
      "cell_type": "code",
      "execution_count": 11,
      "id": "b82a437b",
      "metadata": {},
      "outputs": [
        {
          "data": {
            "text/plain": [
              "array([[-0.01084101, -0.00526797, -0.00952041, ..., -0.00547499,\n",
              "        -0.00689655, -0.00453543],\n",
              "       [-0.0111584 , -0.01148524, -0.01264642, ..., -0.00361933,\n",
              "        -0.00786872, -0.00921078],\n",
              "       [-0.00565541, -0.01345704, -0.0163328 , ..., -0.00772127,\n",
              "        -0.01112677, -0.01391968],\n",
              "       ...,\n",
              "       [ 0.0079258 ,  0.00598816, -0.00238138, ...,  0.00239898,\n",
              "         0.00210277,  0.00282967],\n",
              "       [ 0.00817869,  0.01125333, -0.00097716, ...,  0.00021382,\n",
              "         0.00399127,  0.00349119],\n",
              "       [ 0.00440049,  0.00631212, -0.00102574, ...,  0.00149292,\n",
              "         0.00220676, -0.00309678]], dtype='>f8')"
            ]
          },
          "execution_count": 11,
          "metadata": {},
          "output_type": "execute_result"
        }
      ],
      "source": [
        "kappa_matlab"
      ]
    },
    {
      "cell_type": "code",
      "execution_count": 12,
      "id": "3d78feb4",
      "metadata": {},
      "outputs": [
        {
          "data": {
            "text/plain": [
              "array([[-0.01084101, -0.00526797, -0.00952041, ..., -0.00547499,\n",
              "        -0.00689655, -0.00453543],\n",
              "       [-0.0111584 , -0.01148524, -0.01264642, ..., -0.00361933,\n",
              "        -0.00786872, -0.00921078],\n",
              "       [-0.00565541, -0.01345704, -0.0163328 , ..., -0.00772127,\n",
              "        -0.01112677, -0.01391968],\n",
              "       ...,\n",
              "       [ 0.0079258 ,  0.00598816, -0.00238138, ...,  0.00239898,\n",
              "         0.00210277,  0.00282967],\n",
              "       [ 0.00817869,  0.01125333, -0.00097716, ...,  0.00021382,\n",
              "         0.00399127,  0.00349119],\n",
              "       [ 0.00440049,  0.00631212, -0.00102574, ...,  0.00149292,\n",
              "         0.00220676, -0.00309678]], dtype='>f8')"
            ]
          },
          "execution_count": 12,
          "metadata": {},
          "output_type": "execute_result"
        }
      ],
      "source": [
        "kappa_zhaoan"
      ]
    },
    {
      "cell_type": "code",
      "execution_count": 21,
      "id": "500f2e8f",
      "metadata": {},
      "outputs": [
        {
          "data": {
            "text/plain": [
              "array([[-0.01084101, -0.00526797, -0.0095204 , ..., -0.00547499,\n",
              "        -0.00689654, -0.00453542],\n",
              "       [-0.0111584 , -0.01148524, -0.01264642, ..., -0.00361932,\n",
              "        -0.00786871, -0.00921078],\n",
              "       [-0.00565541, -0.01345704, -0.0163328 , ..., -0.00772127,\n",
              "        -0.01112676, -0.01391968],\n",
              "       ...,\n",
              "       [ 0.0079258 ,  0.00598816, -0.00238138, ...,  0.00239898,\n",
              "         0.00210277,  0.00282967],\n",
              "       [ 0.00817868,  0.01125333, -0.00097717, ...,  0.00021382,\n",
              "         0.00399127,  0.00349118],\n",
              "       [ 0.00440049,  0.00631211, -0.00102575, ...,  0.00149292,\n",
              "         0.00220676, -0.00309678]], dtype='>f4')"
            ]
          },
          "execution_count": 21,
          "metadata": {},
          "output_type": "execute_result"
        }
      ],
      "source": [
        "kappa_torch"
      ]
    },
    {
      "cell_type": "code",
      "execution_count": null,
      "id": "dd51121b",
      "metadata": {},
      "outputs": [],
      "source": []
    }
  ],
  "metadata": {
    "kernelspec": {
      "display_name": "d2l",
      "language": "python",
      "name": "python3"
    },
    "language_info": {
      "codemirror_mode": {
        "name": "ipython",
        "version": 3
      },
      "file_extension": ".py",
      "mimetype": "text/x-python",
      "name": "python",
      "nbconvert_exporter": "python",
      "pygments_lexer": "ipython3",
      "version": "3.9.16"
    },
    "noteable": {
      "last_delta_id": "c657b3cb-88e9-4573-91a9-f984a1074824",
      "last_transaction_id": "5edb24f5-35b5-4352-8c0b-db88121da6c4"
    },
    "noteable-chatgpt": {
      "create_notebook": {
        "openai_conversation_id": "6ae93711-c110-5c3d-8ce0-58a981fa8873",
        "openai_ephemeral_user_id": "aed0628c-752c-5896-8ab5-45d06d217e7c"
      }
    },
    "nteract": {
      "version": "noteable@2.9.0"
    },
    "selected_hardware_size": "small"
  },
  "nbformat": 4,
  "nbformat_minor": 5
}
